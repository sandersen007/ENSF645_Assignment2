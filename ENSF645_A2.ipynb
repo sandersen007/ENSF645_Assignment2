{
  "cells": [
    {
      "cell_type": "markdown",
      "metadata": {
        "colab_type": "text",
        "id": "view-in-github"
      },
      "source": [
        "<a href=\"https://colab.research.google.com/github/sandersen007/ENSF645_Assignment2/blob/main/ENSF645_A2.ipynb\" target=\"_parent\"><img src=\"https://colab.research.google.com/assets/colab-badge.svg\" alt=\"Open In Colab\"/></a>"
      ]
    },
    {
      "cell_type": "markdown",
      "metadata": {
        "id": "3Bb2iiGZ_Fl-"
      },
      "source": [
        "1. Look at the dataset\n",
        "    - Different sizes of images\n",
        "    - Samples with wrong labels\n",
        "    - Different backgrounds\n",
        "    - File formats\n",
        "    - Intensity range\n",
        "    - Class distribution\n",
        "2. Pre-process the data\n",
        "    - Padded the images so they are square\n",
        "    - Resized the images to a managable size\n",
        "3. Experimental setup\n",
        "    -   Single train/val/test split: 70%/ 15%/ 15%\n",
        "    -   Set data augmentation\n",
        "    -   Create data loaders\n",
        "4. Transfer learning\n",
        "    - SOTA models on imagenet\n",
        "    - Add and train new top/predictor\n",
        "    - Fine-tune all or some feature learning layers \n",
        "5. Loss and metrics\n",
        "    -   Loss: categorical cross-entropy\n",
        "    -   Metrics: Accuracy, sensitivity, specificity, confusion matrix, training and inference time?\n",
        "6. Set your callbacks and track your experiments\n",
        "    - Early stopping - patience\n",
        "    - Model check point\n",
        "    - Learning rate scheduler\n",
        "    - Weights and biases (train/val loss)\n",
        "7. Set your main hyperparameters\n",
        "    - batch size\n",
        "    - learning rate\n",
        "    - number of epochs\n",
        "8. Train \n",
        "    - Train your model\n",
        "    - Need to write your training code in pure Python and PyTorch or use another library like lightning or ignite\n",
        "9. Test \n",
        "    - Run prediction on your test set\n",
        "    - Extract relevant metrics\n",
        "    - Measure inference time\n",
        "\n",
        "- Other suggestions:\n",
        "    - Use config files to make experimenting different configs easily\n",
        "    - Design locally, but run experiments in the cluster\n",
        "\n"
      ]
    },
    {
      "cell_type": "markdown",
      "metadata": {
        "id": "4DnJlPN6lo3C"
      },
      "source": [
        "## Why use transfer learning?\n",
        "\n",
        "There are two main benefits to using transfer learning:\n",
        "\n",
        "1. Can leverage an existing model (usually a neural network architecture) proven to work on problems similar to our own.\n",
        "2. Can leverage a working model which has **already learned** patterns on similar data to our own. This often results in achieving **great results with less custom data**.\n",
        "\n",
        "\n",
        "*We'll be putting these to the test for our Chemotherapy Extravasation problem, we'll take a computer vision model pretrained on ImageNet and try to leverage its underlying learned representations for classifying images of normal, mild, moderate, and severe extravasation injuries.*\n",
        "\n",
        "Both research and practice support the use of transfer learning too.\n",
        "\n",
        "A finding from a recent machine learning research paper recommended practioner's use transfer learning wherever possible.\n",
        "\n",
        "\n",
        "*A study into the effects of whether training from scratch or using transfer learning was better from a practioner's point of view, found transfer learning to be far more beneficial in terms of cost and time. **Source:** [How to train your ViT? Data, Augmentation, and Regularization in Vision Transformers](https://arxiv.org/abs/2106.10270) paper section 6 (conclusion).*\n",
        "\n",
        "And Jeremy Howard (founder of [fastai](https://www.fast.ai/)) is a big proponent of transfer learning.\n",
        "\n",
        "> The things that really make a difference (transfer learning), if we can do better at transfer learning, it’s this world changing thing. Suddenly lots more people can do world-class work with less resources and less data. — [Jeremy Howard on the Lex Fridman Podcast](https://youtu.be/Bi7f1JSSlh8?t=72)"
      ]
    },
    {
      "cell_type": "markdown",
      "metadata": {
        "id": "rLMst_ylmLSS"
      },
      "source": [
        "## Mount drive for Google CoLab"
      ]
    },
    {
      "cell_type": "code",
      "execution_count": 1,
      "metadata": {
        "colab": {
          "base_uri": "https://localhost:8080/"
        },
        "id": "uS3yb2SD_gmp",
        "outputId": "57e6352b-6618-4f28-a60c-ce47fc2625eb"
      },
      "outputs": [
        {
          "name": "stdout",
          "output_type": "stream",
          "text": [
            "Mounted at /content/drive\n"
          ]
        }
      ],
      "source": [
        "from google.colab import drive\n",
        "drive.mount(\"/content/drive\")"
      ]
    },
    {
      "cell_type": "markdown",
      "metadata": {
        "id": "tUp4YGBOmTgW"
      },
      "source": [
        "## Lets now import all the necessary modules...."
      ]
    },
    {
      "cell_type": "code",
      "execution_count": 30,
      "metadata": {
        "colab": {
          "base_uri": "https://localhost:8080/"
        },
        "id": "I-Iwns0A_FmC",
        "outputId": "65420e48-c9b8-4cee-d15a-0c0eea4b860c"
      },
      "outputs": [],
      "source": [
        "import torch\n",
        "import glob\n",
        "import matplotlib.pylab as plt\n",
        "from torch.utils.data import Dataset\n",
        "import torch.nn as nn\n",
        "import numpy as np\n",
        "from PIL import Image\n",
        "from torchvision.models import resnet18, ResNet18_Weights\n",
        "from torchvision import transforms, models\n",
        "from sklearn.model_selection import StratifiedShuffleSplit\n",
        "import torch.optim as optim\n",
        "from torch.optim.lr_scheduler import ExponentialLR\n"
      ]
    },
    {
      "cell_type": "markdown",
      "metadata": {
        "id": "208107cc-a0d7-4d84-ad27-4b5120d6be02"
      },
      "source": [
        "## Now let's setup device agnostic code.\n",
        "\n",
        "> **Note:** If you're using Google Colab, and you don't have a GPU turned on yet, it's now time to turn one on via `Runtime -> Change runtime type -> Hardware accelerator -> GPU`."
      ]
    },
    {
      "cell_type": "code",
      "execution_count": 31,
      "metadata": {
        "id": "g8lG6jZPmeIB"
      },
      "outputs": [
        {
          "name": "stdout",
          "output_type": "stream",
          "text": [
            "cpu\n"
          ]
        }
      ],
      "source": [
        "# Check if GPU is available\n",
        "device = torch.device('cuda:0' if torch.cuda.is_available() else 'cpu')\n",
        "\n",
        "# Assuming that we are on a CUDA machine, this should print a CUDA device:\n",
        "print(device)"
      ]
    },
    {
      "cell_type": "code",
      "execution_count": 32,
      "metadata": {
        "id": "WSZHx_Yp_FmE"
      },
      "outputs": [],
      "source": [
        "class TorchVisionDataset(Dataset):\n",
        "    def __init__(self,data_dic, transform = None):\n",
        "        self.file_paths = data_dic[\"X\"]\n",
        "        self.labels = data_dic[\"Y\"]\n",
        "        self.transform = transform\n",
        "\n",
        "    def __len__(self):\n",
        "        return len(self.file_paths)\n",
        "\n",
        "    \n",
        "    def __getitem__(self,idx):\n",
        "        label = self.labels[idx]\n",
        "        file_path = self.file_paths[idx]\n",
        "\n",
        "        #lazily open image\n",
        "        image = Image.open(file_path)\n",
        "\n",
        "        #convert to rgb\n",
        "        image = image.convert(\"RGB\")\n",
        "\n",
        "        if self.transform:\n",
        "            image = self.transform(image)\n",
        "        return image, label\n",
        "        \n"
      ]
    },
    {
      "cell_type": "code",
      "execution_count": 33,
      "metadata": {
        "colab": {
          "base_uri": "https://localhost:8080/"
        },
        "id": "hxNTsqhL_FmE",
        "outputId": "abb2aebe-1964-41b8-a249-3c6330eb2cb0"
      },
      "outputs": [
        {
          "name": "stdout",
          "output_type": "stream",
          "text": [
            "115\n",
            "115\n",
            "images\\mild\\1 (1).png\n",
            "mild\n"
          ]
        }
      ],
      "source": [
        "images = glob.glob(\"images/*/*\")\n",
        "images = np.array(images)\n",
        "labels = np.array([f.split(\"\\\\\")[-2] for f in images])\n",
        "print(len(images))\n",
        "print(labels.size)\n",
        "print(images[0])\n",
        "print(labels[0])"
      ]
    },
    {
      "cell_type": "code",
      "execution_count": 34,
      "metadata": {
        "colab": {
          "base_uri": "https://localhost:8080/"
        },
        "id": "vNEAvr4f_FmF",
        "outputId": "193fc263-6943-4b2c-f294-f9a2ce66f2c6"
      },
      "outputs": [
        {
          "name": "stdout",
          "output_type": "stream",
          "text": [
            "['mild' 'moderate' 'normal' 'severe']\n",
            "(115,)\n"
          ]
        }
      ],
      "source": [
        "classes = np.unique(labels).flatten()\n",
        "print(classes)\n",
        "labels_int = np.zeros(labels.size, dtype = np.int64)\n",
        "print(labels_int.shape)\n",
        "for i,j in enumerate(classes):\n",
        "    labels_int[labels == j] = i "
      ]
    },
    {
      "cell_type": "code",
      "execution_count": 35,
      "metadata": {
        "colab": {
          "base_uri": "https://localhost:8080/"
        },
        "id": "RoYUT2iW_FmF",
        "outputId": "36e08a4e-0574-4c0e-f8b9-256ed8ea41bf"
      },
      "outputs": [
        {
          "name": "stdout",
          "output_type": "stream",
          "text": [
            "Label 0 : 29\n",
            "Label 1 : 43\n",
            "Label 2 : 20\n",
            "Label 3 : 23\n"
          ]
        }
      ],
      "source": [
        "for i in range(4):\n",
        "    print(\"Label\", i, \":\", (labels_int == i).sum())"
      ]
    },
    {
      "cell_type": "code",
      "execution_count": 36,
      "metadata": {
        "id": "9D0G6HKQ_FmG"
      },
      "outputs": [],
      "source": [
        "sss = StratifiedShuffleSplit(n_splits = 1, test_size= 0.25, random_state=100)\n",
        "sss.get_n_splits(images,labels_int)\n",
        "dev_index, test_index = next(sss.split(images,labels_int))\n",
        "\n",
        "dev_images = images[dev_index]\n",
        "dev_labels = labels_int[dev_index]\n",
        "\n",
        "test_images = images[test_index]\n",
        "test_labels = labels_int[test_index] "
      ]
    },
    {
      "cell_type": "code",
      "execution_count": 37,
      "metadata": {
        "id": "PanWe25x_FmG"
      },
      "outputs": [],
      "source": [
        "sss2 = StratifiedShuffleSplit(n_splits = 1, test_size= 0.25, random_state=100)\n",
        "sss2.get_n_splits(dev_images,dev_labels)\n",
        "train_index, val_index = next(sss2.split(dev_images,dev_labels))\n",
        "\n",
        "train_images = images[train_index]\n",
        "train_labels = labels_int[train_index]\n",
        "\n",
        "val_images = images[val_index]\n",
        "val_labels = labels_int[val_index] "
      ]
    },
    {
      "cell_type": "code",
      "execution_count": 38,
      "metadata": {
        "colab": {
          "base_uri": "https://localhost:8080/"
        },
        "id": "lHpPWN2h_FmH",
        "outputId": "8ba146fe-b5df-43b6-dd4a-59b774a0d923"
      },
      "outputs": [
        {
          "name": "stdout",
          "output_type": "stream",
          "text": [
            "Train set: 64\n",
            "Val set: 22\n",
            "Test set: 29\n"
          ]
        }
      ],
      "source": [
        "print(\"Train set:\", train_images.size)\n",
        "print(\"Val set:\", val_images.size)\n",
        "print(\"Test set:\", test_images.size)\n"
      ]
    },
    {
      "cell_type": "code",
      "execution_count": 39,
      "metadata": {
        "id": "d-EZCrqX_FmH"
      },
      "outputs": [],
      "source": [
        "train_set = {\"X\": train_images, \"Y\": train_labels}\n",
        "val_set = {\"X\": val_images, \"Y\": val_labels}\n",
        "test_set = {\"X\": test_images, \"Y\": test_labels}"
      ]
    },
    {
      "attachments": {},
      "cell_type": "markdown",
      "metadata": {},
      "source": [
        "Selecting the pretrained model and weights"
      ]
    },
    {
      "cell_type": "code",
      "execution_count": 40,
      "metadata": {},
      "outputs": [],
      "source": [
        "selected_model=resnet18\n",
        "pretrained_weights=ResNet18_Weights.IMAGENET1K_V1"
      ]
    },
    {
      "attachments": {},
      "cell_type": "markdown",
      "metadata": {},
      "source": [
        "Using the same transforms as what was used for the model training.\n",
        "For training, additional random horizontal and vertical flips are added."
      ]
    },
    {
      "cell_type": "code",
      "execution_count": 41,
      "metadata": {
        "id": "LU8DydU9_FmI"
      },
      "outputs": [],
      "source": [
        "torchvision_transform = torch.nn.Sequential(pretrained_weights.transforms(), transforms.RandomHorizontalFlip(), transforms.RandomVerticalFlip())\n",
        "\n",
        "\n",
        "torchvision_transform_test = pretrained_weights.transforms()"
      ]
    },
    {
      "cell_type": "code",
      "execution_count": 42,
      "metadata": {
        "id": "jtvKS3xH_FmI"
      },
      "outputs": [],
      "source": [
        "train_dataset = TorchVisionDataset(train_set, transform=torchvision_transform)\n",
        "val_dataset = TorchVisionDataset(val_set, transform=torchvision_transform)\n",
        "test_dataset = TorchVisionDataset(test_set, transform=torchvision_transform_test)"
      ]
    },
    {
      "cell_type": "code",
      "execution_count": 43,
      "metadata": {
        "id": "HhJjZdCq_FmJ"
      },
      "outputs": [],
      "source": [
        "trainloader = torch.utils.data.DataLoader(train_dataset, batch_size= 32, shuffle = True, num_workers= 0)\n",
        "valloader = torch.utils.data.DataLoader(val_dataset, batch_size= 32, num_workers= 0)\n",
        "testloader = torch.utils.data.DataLoader(test_dataset, batch_size= 32, num_workers= 0)"
      ]
    },
    {
      "cell_type": "code",
      "execution_count": 44,
      "metadata": {
        "id": "jsKe4-MU_FmJ"
      },
      "outputs": [],
      "source": [
        "def get_dataset_stats(data_loader):\n",
        "    mean = 0.\n",
        "    std = 0.\n",
        "    nb_samples = 0.\n",
        "    for data in data_loader:\n",
        "        data = data[0]  # Get the images to compute the stgatistics\n",
        "        batch_samples = data.size(0)\n",
        "        data = data.view(batch_samples, data.size(1), -1)\n",
        "        mean += data.mean(2).sum(0)\n",
        "        std += data.std(2).sum(0)\n",
        "        nb_samples += batch_samples\n",
        "\n",
        "    mean /= nb_samples\n",
        "    std /= nb_samples\n",
        "    return mean, std"
      ]
    },
    {
      "cell_type": "code",
      "execution_count": 45,
      "metadata": {
        "colab": {
          "base_uri": "https://localhost:8080/"
        },
        "id": "pcg6DkVj_FmJ",
        "outputId": "a75d0654-f91d-4193-a904-41d62ad98221"
      },
      "outputs": [
        {
          "name": "stdout",
          "output_type": "stream",
          "text": [
            "(tensor([0.5867, 0.2310, 0.3133]), tensor([0.8118, 0.7641, 0.7679]))\n"
          ]
        }
      ],
      "source": [
        "print(get_dataset_stats(trainloader))"
      ]
    },
    {
      "cell_type": "code",
      "execution_count": 46,
      "metadata": {
        "id": "yRUq7ArF_FmK"
      },
      "outputs": [],
      "source": [
        "train_iterator = iter(trainloader)\n",
        "train_batch = next(train_iterator)"
      ]
    },
    {
      "cell_type": "code",
      "execution_count": 47,
      "metadata": {
        "colab": {
          "base_uri": "https://localhost:8080/"
        },
        "id": "NhVUIdmO_FmK",
        "outputId": "786b550d-edfb-4d24-870a-8e5a819365e9"
      },
      "outputs": [
        {
          "name": "stdout",
          "output_type": "stream",
          "text": [
            "torch.Size([32, 3, 224, 224])\n",
            "torch.Size([32])\n"
          ]
        }
      ],
      "source": [
        "print(train_batch[0].size())\n",
        "print(train_batch[1].size())"
      ]
    },
    {
      "cell_type": "code",
      "execution_count": 55,
      "metadata": {
        "colab": {
          "base_uri": "https://localhost:8080/",
          "height": 286
        },
        "id": "z1AkTnI3_FmK",
        "outputId": "0b2684d5-1f7a-4c4b-8b53-7e93f14c4624"
      },
      "outputs": [
        {
          "name": "stderr",
          "output_type": "stream",
          "text": [
            "Clipping input data to the valid range for imshow with RGB data ([0..1] for floats or [0..255] for integers).\n"
          ]
        },
        {
          "data": {
            "image/png": "[encoded data removed]",
            "text/plain": [
              "<Figure size 432x288 with 1 Axes>"
            ]
          },
          "metadata": {
            "needs_background": "light"
          },
          "output_type": "display_data"
        }
      ],
      "source": [
        "plt.figure()\n",
        "plt.imshow(train_batch[0].numpy()[0].transpose(1,2,0))\n",
        "plt.show()"
      ]
    },
    {
      "cell_type": "code",
      "execution_count": 49,
      "metadata": {
        "id": "1v_HBoQX_FmL"
      },
      "outputs": [],
      "source": [
        "class Model(nn.Module):\n",
        "    def __init__(self,  num_classes, input_shape, transfer=False, fixed_feature_extractor=False):\n",
        "        super().__init__()\n",
        "\n",
        "        self.transfer = transfer\n",
        "        self.num_classes = num_classes\n",
        "        self.input_shape = input_shape\n",
        "        \n",
        "        # transfer learning if pretrained=True\n",
        "        self.feature_extractor =  selected_model(weights=(pretrained_weights if transfer else None))\n",
        "\n",
        "        if not fixed_feature_extractor:\n",
        "            # layers are frozen by using eval()\n",
        "            self.feature_extractor.eval()\n",
        "            # freeze params\n",
        "            for param in self.feature_extractor.parameters():\n",
        "                param.requires_grad = False\n",
        "\n",
        "        n_features = self._get_conv_output(self.input_shape)\n",
        "        self.classifier = nn.Linear(n_features, num_classes)\n",
        "\n",
        "    def _get_conv_output(self, shape):\n",
        "        batch_size = 1\n",
        "        tmp_input = torch.autograd.Variable(torch.rand(batch_size, *shape))\n",
        "\n",
        "        output_feat = self.feature_extractor(tmp_input) \n",
        "        n_size = output_feat.data.view(batch_size, -1).size(1)\n",
        "        return n_size\n",
        "\n",
        "    # will be used during inference\n",
        "    def forward(self, x):\n",
        "       x = self.feature_extractor(x)\n",
        "       x = x.view(x.size(0), -1)\n",
        "       x = self.classifier(x)\n",
        "       \n",
        "       return x\n"
      ]
    },
    {
      "cell_type": "code",
      "execution_count": 50,
      "metadata": {
        "colab": {
          "base_uri": "https://localhost:8080/"
        },
        "id": "S6EzdJmt_FmL",
        "outputId": "df99318c-6e39-4741-a697-5a0d1483be25"
      },
      "outputs": [
        {
          "data": {
            "text/plain": [
              "Model(\n",
              "  (feature_extractor): ResNet(\n",
              "    (conv1): Conv2d(3, 64, kernel_size=(7, 7), stride=(2, 2), padding=(3, 3), bias=False)\n",
              "    (bn1): BatchNorm2d(64, eps=1e-05, momentum=0.1, affine=True, track_running_stats=True)\n",
              "    (relu): ReLU(inplace=True)\n",
              "    (maxpool): MaxPool2d(kernel_size=3, stride=2, padding=1, dilation=1, ceil_mode=False)\n",
              "    (layer1): Sequential(\n",
              "      (0): BasicBlock(\n",
              "        (conv1): Conv2d(64, 64, kernel_size=(3, 3), stride=(1, 1), padding=(1, 1), bias=False)\n",
              "        (bn1): BatchNorm2d(64, eps=1e-05, momentum=0.1, affine=True, track_running_stats=True)\n",
              "        (relu): ReLU(inplace=True)\n",
              "        (conv2): Conv2d(64, 64, kernel_size=(3, 3), stride=(1, 1), padding=(1, 1), bias=False)\n",
              "        (bn2): BatchNorm2d(64, eps=1e-05, momentum=0.1, affine=True, track_running_stats=True)\n",
              "      )\n",
              "      (1): BasicBlock(\n",
              "        (conv1): Conv2d(64, 64, kernel_size=(3, 3), stride=(1, 1), padding=(1, 1), bias=False)\n",
              "        (bn1): BatchNorm2d(64, eps=1e-05, momentum=0.1, affine=True, track_running_stats=True)\n",
              "        (relu): ReLU(inplace=True)\n",
              "        (conv2): Conv2d(64, 64, kernel_size=(3, 3), stride=(1, 1), padding=(1, 1), bias=False)\n",
              "        (bn2): BatchNorm2d(64, eps=1e-05, momentum=0.1, affine=True, track_running_stats=True)\n",
              "      )\n",
              "    )\n",
              "    (layer2): Sequential(\n",
              "      (0): BasicBlock(\n",
              "        (conv1): Conv2d(64, 128, kernel_size=(3, 3), stride=(2, 2), padding=(1, 1), bias=False)\n",
              "        (bn1): BatchNorm2d(128, eps=1e-05, momentum=0.1, affine=True, track_running_stats=True)\n",
              "        (relu): ReLU(inplace=True)\n",
              "        (conv2): Conv2d(128, 128, kernel_size=(3, 3), stride=(1, 1), padding=(1, 1), bias=False)\n",
              "        (bn2): BatchNorm2d(128, eps=1e-05, momentum=0.1, affine=True, track_running_stats=True)\n",
              "        (downsample): Sequential(\n",
              "          (0): Conv2d(64, 128, kernel_size=(1, 1), stride=(2, 2), bias=False)\n",
              "          (1): BatchNorm2d(128, eps=1e-05, momentum=0.1, affine=True, track_running_stats=True)\n",
              "        )\n",
              "      )\n",
              "      (1): BasicBlock(\n",
              "        (conv1): Conv2d(128, 128, kernel_size=(3, 3), stride=(1, 1), padding=(1, 1), bias=False)\n",
              "        (bn1): BatchNorm2d(128, eps=1e-05, momentum=0.1, affine=True, track_running_stats=True)\n",
              "        (relu): ReLU(inplace=True)\n",
              "        (conv2): Conv2d(128, 128, kernel_size=(3, 3), stride=(1, 1), padding=(1, 1), bias=False)\n",
              "        (bn2): BatchNorm2d(128, eps=1e-05, momentum=0.1, affine=True, track_running_stats=True)\n",
              "      )\n",
              "    )\n",
              "    (layer3): Sequential(\n",
              "      (0): BasicBlock(\n",
              "        (conv1): Conv2d(128, 256, kernel_size=(3, 3), stride=(2, 2), padding=(1, 1), bias=False)\n",
              "        (bn1): BatchNorm2d(256, eps=1e-05, momentum=0.1, affine=True, track_running_stats=True)\n",
              "        (relu): ReLU(inplace=True)\n",
              "        (conv2): Conv2d(256, 256, kernel_size=(3, 3), stride=(1, 1), padding=(1, 1), bias=False)\n",
              "        (bn2): BatchNorm2d(256, eps=1e-05, momentum=0.1, affine=True, track_running_stats=True)\n",
              "        (downsample): Sequential(\n",
              "          (0): Conv2d(128, 256, kernel_size=(1, 1), stride=(2, 2), bias=False)\n",
              "          (1): BatchNorm2d(256, eps=1e-05, momentum=0.1, affine=True, track_running_stats=True)\n",
              "        )\n",
              "      )\n",
              "      (1): BasicBlock(\n",
              "        (conv1): Conv2d(256, 256, kernel_size=(3, 3), stride=(1, 1), padding=(1, 1), bias=False)\n",
              "        (bn1): BatchNorm2d(256, eps=1e-05, momentum=0.1, affine=True, track_running_stats=True)\n",
              "        (relu): ReLU(inplace=True)\n",
              "        (conv2): Conv2d(256, 256, kernel_size=(3, 3), stride=(1, 1), padding=(1, 1), bias=False)\n",
              "        (bn2): BatchNorm2d(256, eps=1e-05, momentum=0.1, affine=True, track_running_stats=True)\n",
              "      )\n",
              "    )\n",
              "    (layer4): Sequential(\n",
              "      (0): BasicBlock(\n",
              "        (conv1): Conv2d(256, 512, kernel_size=(3, 3), stride=(2, 2), padding=(1, 1), bias=False)\n",
              "        (bn1): BatchNorm2d(512, eps=1e-05, momentum=0.1, affine=True, track_running_stats=True)\n",
              "        (relu): ReLU(inplace=True)\n",
              "        (conv2): Conv2d(512, 512, kernel_size=(3, 3), stride=(1, 1), padding=(1, 1), bias=False)\n",
              "        (bn2): BatchNorm2d(512, eps=1e-05, momentum=0.1, affine=True, track_running_stats=True)\n",
              "        (downsample): Sequential(\n",
              "          (0): Conv2d(256, 512, kernel_size=(1, 1), stride=(2, 2), bias=False)\n",
              "          (1): BatchNorm2d(512, eps=1e-05, momentum=0.1, affine=True, track_running_stats=True)\n",
              "        )\n",
              "      )\n",
              "      (1): BasicBlock(\n",
              "        (conv1): Conv2d(512, 512, kernel_size=(3, 3), stride=(1, 1), padding=(1, 1), bias=False)\n",
              "        (bn1): BatchNorm2d(512, eps=1e-05, momentum=0.1, affine=True, track_running_stats=True)\n",
              "        (relu): ReLU(inplace=True)\n",
              "        (conv2): Conv2d(512, 512, kernel_size=(3, 3), stride=(1, 1), padding=(1, 1), bias=False)\n",
              "        (bn2): BatchNorm2d(512, eps=1e-05, momentum=0.1, affine=True, track_running_stats=True)\n",
              "      )\n",
              "    )\n",
              "    (avgpool): AdaptiveAvgPool2d(output_size=(1, 1))\n",
              "    (fc): Linear(in_features=512, out_features=1000, bias=True)\n",
              "  )\n",
              "  (classifier): Linear(in_features=1000, out_features=4, bias=True)\n",
              ")"
            ]
          },
          "execution_count": 50,
          "metadata": {},
          "output_type": "execute_result"
        }
      ],
      "source": [
        "net = Model(4, (3,224,224), transfer=True, fixed_feature_extractor=False)\n",
        "net.to(device)"
      ]
    },
    {
      "cell_type": "code",
      "execution_count": 51,
      "metadata": {
        "id": "HzBdAaSk_FmM"
      },
      "outputs": [],
      "source": [
        "criterion = nn.CrossEntropyLoss() # Loss function\n",
        "optimizer = torch.optim.AdamW(net.parameters(), lr = 0.001)\n",
        "scheduler = ExponentialLR(optimizer, gamma=0.9)"
      ]
    },
    {
      "cell_type": "code",
      "execution_count": 52,
      "metadata": {
        "colab": {
          "base_uri": "https://localhost:8080/"
        },
        "id": "gSdT3VlN_FmM",
        "outputId": "98969bee-65fb-41d7-f884-53c73df9a11a"
      },
      "outputs": [
        {
          "name": "stdout",
          "output_type": "stream",
          "text": [
            "1,  train loss: 1.690, val loss: 1.342\n",
            "Saving model\n",
            "2,  train loss: 1.168, val loss: 0.841\n",
            "Saving model\n",
            "3,  train loss: 0.961, val loss: 0.821\n",
            "Saving model\n",
            "4,  train loss: 0.816, val loss: 0.727\n",
            "Saving model\n",
            "5,  train loss: 0.693, val loss: 0.731\n",
            "6,  train loss: 0.617, val loss: 0.590\n",
            "Saving model\n",
            "7,  train loss: 0.566, val loss: 0.672\n",
            "8,  train loss: 0.505, val loss: 0.589\n",
            "Saving model\n",
            "9,  train loss: 0.470, val loss: 0.553\n",
            "Saving model\n",
            "10,  train loss: 0.430, val loss: 0.523\n",
            "Saving model\n",
            "11,  train loss: 0.417, val loss: 0.575\n",
            "12,  train loss: 0.363, val loss: 0.494\n",
            "Saving model\n",
            "13,  train loss: 0.367, val loss: 0.488\n",
            "Saving model\n",
            "14,  train loss: 0.380, val loss: 0.636\n",
            "15,  train loss: 0.377, val loss: 0.470\n",
            "Saving model\n",
            "16,  train loss: 0.340, val loss: 0.608\n",
            "17,  train loss: 0.344, val loss: 0.566\n",
            "18,  train loss: 0.313, val loss: 0.591\n",
            "19,  train loss: 0.353, val loss: 0.630\n",
            "20,  train loss: 0.309, val loss: 0.674\n",
            "21,  train loss: 0.326, val loss: 0.534\n",
            "22,  train loss: 0.279, val loss: 0.641\n",
            "23,  train loss: 0.317, val loss: 0.763\n",
            "24,  train loss: 0.315, val loss: 0.473\n",
            "25,  train loss: 0.289, val loss: 0.624\n",
            "26,  train loss: 0.311, val loss: 0.469\n",
            "Saving model\n",
            "27,  train loss: 0.293, val loss: 0.528\n",
            "28,  train loss: 0.330, val loss: 0.547\n",
            "29,  train loss: 0.278, val loss: 0.476\n",
            "30,  train loss: 0.315, val loss: 0.598\n",
            "Finished Training\n"
          ]
        }
      ],
      "source": [
        "nepochs = 30\n",
        "PATH = 'EV_net.pth' # Path to save the best model\n",
        "\n",
        "best_loss = 1e+20\n",
        "for epoch in range(nepochs):  # loop over the dataset multiple times\n",
        "    # Training Loop\n",
        "    train_loss = 0.0\n",
        "    for i, data in enumerate(trainloader, 0):\n",
        "        # get the inputs; data is a list of [inputs, labels]\n",
        "        inputs, labels = data[0].to(device), data[1].to(device)\n",
        "        # zero the parameter gradients\n",
        "        optimizer.zero_grad()\n",
        "\n",
        "        # forward + backward + optimize\n",
        "        outputs = net(inputs)\n",
        "        \n",
        "        loss = criterion(outputs, labels)\n",
        "        loss.backward()\n",
        "        optimizer.step()\n",
        "\n",
        "        train_loss += loss.item()\n",
        "    print(f'{epoch + 1},  train loss: {train_loss / (i+1):.3f},', end = ' ')\n",
        "    scheduler.step()\n",
        "    \n",
        "    val_loss = 0\n",
        "    # since we're not training, we don't need to calculate the gradients for our outputs\n",
        "    with torch.no_grad():\n",
        "        for i, data in enumerate(valloader, 0):\n",
        "            # get the inputs; data is a list of [inputs, labels]\n",
        "            inputs, labels = data[0].to(device), data[1].to(device)\n",
        "            outputs = net(inputs)\n",
        "            loss = criterion(outputs, labels)\n",
        "            \n",
        "            val_loss += loss.item()\n",
        "        print(f'val loss: {val_loss / (i+1):.3f}')\n",
        "        \n",
        "        # Save best model\n",
        "        if val_loss < best_loss:\n",
        "            print(\"Saving model\")\n",
        "            torch.save(net.state_dict(), PATH)\n",
        "            best_loss = val_loss\n",
        "        \n",
        "print('Finished Training')"
      ]
    },
    {
      "cell_type": "code",
      "execution_count": 53,
      "metadata": {
        "colab": {
          "base_uri": "https://localhost:8080/"
        },
        "id": "b8BhiMEx_FmN",
        "outputId": "a52d9f5f-4c79-4fc6-eae5-c832522096fe"
      },
      "outputs": [
        {
          "data": {
            "text/plain": [
              "<All keys matched successfully>"
            ]
          },
          "execution_count": 53,
          "metadata": {},
          "output_type": "execute_result"
        }
      ],
      "source": [
        "# Load the best model to be used in the test set\n",
        "net = Model(4, (3,224,224), False)\n",
        "net.load_state_dict(torch.load(PATH))"
      ]
    },
    {
      "cell_type": "code",
      "execution_count": 54,
      "metadata": {
        "colab": {
          "base_uri": "https://localhost:8080/"
        },
        "id": "DPMX1VzU_FmN",
        "outputId": "28773e05-f89e-4fa5-8f24-e3784515b551"
      },
      "outputs": [
        {
          "name": "stdout",
          "output_type": "stream",
          "text": [
            "Accuracy of the network on the test images: 75.86206896551724 %\n"
          ]
        }
      ],
      "source": [
        "correct = 0\n",
        "total = 0\n",
        "# since we're not training, we don't need to calculate the gradients for our outputs\n",
        "with torch.no_grad():\n",
        "    for data in testloader:\n",
        "        images, labels = data\n",
        "        # calculate outputs by running images through the network\n",
        "        outputs = net(images)\n",
        "        # the class with the highest energy is what we choose as prediction\n",
        "        _, predicted = torch.max(outputs.data, 1)\n",
        "        total += labels.size(0)\n",
        "        correct += (predicted == labels).sum().item()\n",
        "\n",
        "print(f'Accuracy of the network on the test images: {100 * correct / total} %')"
      ]
    }
  ],
  "metadata": {
    "accelerator": "GPU",
    "colab": {
      "include_colab_link": true,
      "provenance": [],
      "toc_visible": true
    },
    "gpuClass": "standard",
    "kernelspec": {
      "display_name": "pytorch1.11",
      "language": "python",
      "name": "python3"
    },
    "language_info": {
      "codemirror_mode": {
        "name": "ipython",
        "version": 3
      },
      "file_extension": ".py",
      "mimetype": "text/x-python",
      "name": "python",
      "nbconvert_exporter": "python",
      "pygments_lexer": "ipython3",
      "version": "3.9.9"
    },
    "orig_nbformat": 4,
    "vscode": {
      "interpreter": {
        "hash": "249d11310564531dbb0422c65726fbafe5d71a3f15733fe196d56460bed7c227"
      }
    }
  },
  "nbformat": 4,
  "nbformat_minor": 0
}
