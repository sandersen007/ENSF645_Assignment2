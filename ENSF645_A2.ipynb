{
  "cells": [
    {
      "cell_type": "markdown",
      "metadata": {
        "id": "3Bb2iiGZ_Fl-"
      },
      "source": [
        "1. Look at the dataset\n",
        "    - Different sizes of images\n",
        "    - Samples with wrong labels\n",
        "    - Different backgrounds\n",
        "    - File formats\n",
        "    - Intensity range\n",
        "    - Class distribution\n",
        "2. Pre-process the data\n",
        "    - Padded the images so they are square\n",
        "    - Resized the images to a managable size\n",
        "3. Experimental setup\n",
        "    -   Single train/val/test split: 70%/ 15%/ 15%\n",
        "    -   Set data augmentation\n",
        "    -   Create data loaders\n",
        "4. Transfer learning\n",
        "    - SOTA models on imagenet\n",
        "    - Add and train new top/predictor\n",
        "    - Fine-tune all or some feature learning layers \n",
        "5. Loss and metrics\n",
        "    -   Loss: categorical cross-entropy\n",
        "    -   Metrics: Accuracy, sensitivity, specificity, confusion matrix, training and inference time?\n",
        "6. Set your callbacks and track your experiments\n",
        "    - Early stopping - patience\n",
        "    - Model check point\n",
        "    - Learning rate scheduler\n",
        "    - Weights and biases (train/val loss)\n",
        "7. Set your main hyperparameters\n",
        "    - batch size\n",
        "    - learning rate\n",
        "    - number of epochs\n",
        "8. Train \n",
        "    - Train your model\n",
        "    - Need to write your training code in pure Python and PyTorch or use another library like lightning or ignite\n",
        "9. Test \n",
        "    - Run prediction on your test set\n",
        "    - Extract relevant metrics\n",
        "    - Measure inference time\n",
        "\n",
        "- Other suggestions:\n",
        "    - Use config files to make experimenting different configs easily\n",
        "    - Design locally, but run experiments in the cluster\n",
        "\n"
      ]
    },
    {
      "cell_type": "code",
      "execution_count": 1,
      "metadata": {
        "colab": {
          "base_uri": "https://localhost:8080/"
        },
        "id": "uS3yb2SD_gmp",
        "outputId": "b7b9bc1b-98e4-4036-8cf5-98dbdfb361cd"
      },
      "outputs": [
        {
          "name": "stdout",
          "output_type": "stream",
          "text": [
            "Mounted at /content/drive\n"
          ]
        }
      ],
      "source": [
        "from google.colab import drive\n",
        "drive.mount(\"/content/drive\")"
      ]
    },
    {
      "cell_type": "code",
      "execution_count": 751,
      "metadata": {
        "colab": {
          "base_uri": "https://localhost:8080/"
        },
        "id": "I-Iwns0A_FmC",
        "outputId": "a359b649-f466-431c-ec6c-f82a8d4515be"
      },
      "outputs": [
        {
          "name": "stdout",
          "output_type": "stream",
          "text": [
            "cpu\n"
          ]
        }
      ],
      "source": [
        "import torch\n",
        "import glob\n",
        "import matplotlib.pylab as plt\n",
        "from torch.utils.data import Dataset\n",
        "import torch.nn as nn\n",
        "import numpy as np\n",
        "from PIL import Image\n",
        "from torchvision.models import resnet18, ResNet18_Weights\n",
        "from torchvision import transforms, models\n",
        "from sklearn.model_selection import StratifiedShuffleSplit\n",
        "\n",
        "# Check if GPU is available\n",
        "device = torch.device('cuda:0' if torch.cuda.is_available() else 'cpu')\n",
        "\n",
        "# Assuming that we are on a CUDA machine, this should print a CUDA device:\n",
        "print(device)\n",
        "\n",
        "import torch.optim as optim\n",
        "from torch.optim.lr_scheduler import ExponentialLR"
      ]
    },
    {
      "cell_type": "code",
      "execution_count": 752,
      "metadata": {
        "id": "WSZHx_Yp_FmE"
      },
      "outputs": [],
      "source": [
        "class TorchVisionDataset(Dataset):\n",
        "    def __init__(self,data_dic, transform = None):\n",
        "        self.file_paths = data_dic[\"X\"]\n",
        "        self.labels = data_dic[\"Y\"]\n",
        "        self.transform = transform\n",
        "\n",
        "    def __len__(self):\n",
        "        return len(self.file_paths)\n",
        "\n",
        "    \n",
        "    def __getitem__(self,idx):\n",
        "        label = self.labels[idx]\n",
        "        file_path = self.file_paths[idx]\n",
        "\n",
        "        #lazily open image\n",
        "        image = Image.open(file_path)\n",
        "\n",
        "        #convert to rgb\n",
        "        image = image.convert(\"RGB\")\n",
        "\n",
        "        if self.transform:\n",
        "            image = self.transform(image)\n",
        "        return image, label\n",
        "        \n"
      ]
    },
    {
      "cell_type": "code",
      "execution_count": 753,
      "metadata": {
        "id": "fa7HFSWhHxq-"
      },
      "outputs": [],
      "source": [
        "\n",
        "# # Python 3 code to rename multiple\n",
        "# # files in a directory or folder\n",
        " \n",
        "# # importing os module\n",
        "# import os\n",
        " \n",
        "# # Function to rename multiple files\n",
        "# def main():\n",
        "   \n",
        "#     folder = \"/content/drive/MyDrive/ENSF645_Assign2/severe\"\n",
        "#     for count, filename in enumerate(os.listdir(folder)):\n",
        "#         dst = f\"image_severe {str(count)}.jpg\"\n",
        "#         src =f\"{folder}/{filename}\"  # foldername/filename, if .py file is outside folder\n",
        "#         dst =f\"{folder}/{dst}\"\n",
        "         \n",
        "#         # rename() function will\n",
        "#         # rename all the files\n",
        "#         os.rename(src, dst)\n",
        " \n",
        "# # Driver Code\n",
        "# if __name__ == '__main__':\n",
        "     \n",
        "#     # Calling main() function\n",
        "#     main()"
      ]
    },
    {
      "cell_type": "code",
      "execution_count": 754,
      "metadata": {
        "colab": {
          "base_uri": "https://localhost:8080/"
        },
        "id": "hxNTsqhL_FmE",
        "outputId": "dff51749-fa8d-453d-ff1a-edae9d119bf9"
      },
      "outputs": [
        {
          "name": "stdout",
          "output_type": "stream",
          "text": [
            "115\n",
            "115\n",
            "images\\mild\\1 (1).png\n",
            "mild\n"
          ]
        }
      ],
      "source": [
        "images = glob.glob(\"images/*/*\")\n",
        "images = np.array(images)\n",
        "labels = np.array([f.split(\"\\\\\")[-2] for f in images])\n",
        "print(len(images))\n",
        "print(labels.size)\n",
        "print(images[0])\n",
        "print(labels[0])\n"
      ]
    },
    {
      "cell_type": "code",
      "execution_count": 755,
      "metadata": {
        "colab": {
          "base_uri": "https://localhost:8080/"
        },
        "id": "vNEAvr4f_FmF",
        "outputId": "b916dfbe-df37-431c-ed82-5b65d1934ad8"
      },
      "outputs": [
        {
          "name": "stdout",
          "output_type": "stream",
          "text": [
            "['mild' 'moderate' 'normal' 'severe']\n",
            "(115,)\n"
          ]
        }
      ],
      "source": [
        "classes = np.unique(labels).flatten()\n",
        "print(classes)\n",
        "labels_int = np.zeros(labels.size, dtype = np.int64)\n",
        "print(labels_int.shape)\n",
        "for ii,jj in enumerate(classes):\n",
        "    labels_int[labels == jj] = ii "
      ]
    },
    {
      "cell_type": "code",
      "execution_count": 756,
      "metadata": {
        "colab": {
          "base_uri": "https://localhost:8080/"
        },
        "id": "RoYUT2iW_FmF",
        "outputId": "cf2fa51c-3ecd-45d0-8d3a-7aa713d21a2b"
      },
      "outputs": [
        {
          "name": "stdout",
          "output_type": "stream",
          "text": [
            "Label 0 : 29\n",
            "Label 1 : 43\n",
            "Label 2 : 20\n",
            "Label 3 : 23\n"
          ]
        }
      ],
      "source": [
        "for i in range(4):\n",
        "    print(\"Label\", i, \":\", (labels_int == i).sum())"
      ]
    },
    {
      "cell_type": "code",
      "execution_count": 757,
      "metadata": {
        "id": "9D0G6HKQ_FmG"
      },
      "outputs": [],
      "source": [
        "sss = StratifiedShuffleSplit(n_splits = 1, test_size= 0.25, random_state=100)\n",
        "sss.get_n_splits(images,labels_int)\n",
        "dev_index, test_index = next(sss.split(images,labels_int))\n",
        "\n",
        "dev_images = images[dev_index]\n",
        "dev_labels = labels_int[dev_index]\n",
        "\n",
        "test_images = images[test_index]\n",
        "test_labels = labels_int[test_index] "
      ]
    },
    {
      "cell_type": "code",
      "execution_count": 758,
      "metadata": {
        "id": "PanWe25x_FmG"
      },
      "outputs": [],
      "source": [
        "sss2 = StratifiedShuffleSplit(n_splits = 1, test_size= 0.25, random_state=100)\n",
        "sss2.get_n_splits(dev_images,dev_labels)\n",
        "train_index, val_index = next(sss2.split(dev_images,dev_labels))\n",
        "\n",
        "train_images = images[train_index]\n",
        "train_labels = labels_int[train_index]\n",
        "\n",
        "val_images = images[val_index]\n",
        "val_labels = labels_int[val_index] "
      ]
    },
    {
      "cell_type": "code",
      "execution_count": 759,
      "metadata": {
        "colab": {
          "base_uri": "https://localhost:8080/"
        },
        "id": "lHpPWN2h_FmH",
        "outputId": "18a0f68d-3c81-4bc8-ddaa-9eb224626bc8"
      },
      "outputs": [
        {
          "name": "stdout",
          "output_type": "stream",
          "text": [
            "Train set: 64\n",
            "Val set: 22\n",
            "Test set: 29\n"
          ]
        }
      ],
      "source": [
        "print(\"Train set:\", train_images.size)\n",
        "print(\"Val set:\", val_images.size)\n",
        "print(\"Test set:\", test_images.size)\n"
      ]
    },
    {
      "cell_type": "code",
      "execution_count": 760,
      "metadata": {
        "id": "d-EZCrqX_FmH"
      },
      "outputs": [],
      "source": [
        "train_set = {\"X\": train_images, \"Y\": train_labels}\n",
        "val_set = {\"X\": val_images, \"Y\": val_labels}\n",
        "test_set = {\"X\": test_images, \"Y\": test_labels}"
      ]
    },
    {
      "cell_type": "code",
      "execution_count": 761,
      "metadata": {},
      "outputs": [],
      "source": [
        "#model selection\n",
        "selected_model=resnet18\n",
        "pretrained_weights=ResNet18_Weights.IMAGENET1K_V1"
      ]
    },
    {
      "cell_type": "code",
      "execution_count": 762,
      "metadata": {
        "id": "LU8DydU9_FmI"
      },
      "outputs": [],
      "source": [
        "torchvision_transform = torch.nn.Sequential(pretrained_weights.transforms(), transforms.RandomHorizontalFlip(), transforms.RandomVerticalFlip())\n",
        "\n",
        "\n",
        "torchvision_transform_test = pretrained_weights.transforms()"
      ]
    },
    {
      "cell_type": "code",
      "execution_count": 763,
      "metadata": {
        "id": "jtvKS3xH_FmI"
      },
      "outputs": [],
      "source": [
        "train_dataset = TorchVisionDataset(train_set, transform=torchvision_transform)\n",
        "val_dataset = TorchVisionDataset(val_set, transform=torchvision_transform)\n",
        "test_dataset = TorchVisionDataset(test_set, transform=torchvision_transform_test)"
      ]
    },
    {
      "cell_type": "code",
      "execution_count": 764,
      "metadata": {
        "id": "HhJjZdCq_FmJ"
      },
      "outputs": [],
      "source": [
        "trainloader = torch.utils.data.DataLoader(train_dataset, batch_size= 32, shuffle = True, num_workers= 0)\n",
        "valloader = torch.utils.data.DataLoader(val_dataset, batch_size= 32, num_workers= 0)\n",
        "testloader = torch.utils.data.DataLoader(test_dataset, batch_size= 32, num_workers= 0)"
      ]
    },
    {
      "cell_type": "code",
      "execution_count": 765,
      "metadata": {
        "id": "jsKe4-MU_FmJ"
      },
      "outputs": [],
      "source": [
        "def get_dataset_stats(data_loader):\n",
        "    mean = 0.\n",
        "    std = 0.\n",
        "    nb_samples = 0.\n",
        "    for data in data_loader:\n",
        "        data = data[0]  # Get the images to compute the stgatistics\n",
        "        batch_samples = data.size(0)\n",
        "        data = data.view(batch_samples, data.size(1), -1)\n",
        "        mean += data.mean(2).sum(0)\n",
        "        std += data.std(2).sum(0)\n",
        "        nb_samples += batch_samples\n",
        "\n",
        "    mean /= nb_samples\n",
        "    std /= nb_samples\n",
        "    return mean, std"
      ]
    },
    {
      "cell_type": "code",
      "execution_count": 766,
      "metadata": {
        "colab": {
          "base_uri": "https://localhost:8080/",
          "height": 311
        },
        "id": "pcg6DkVj_FmJ",
        "outputId": "5a8f2d67-4723-42f2-f36c-d6d48da0ac34"
      },
      "outputs": [
        {
          "name": "stdout",
          "output_type": "stream",
          "text": [
            "(tensor([0.5867, 0.2310, 0.3133]), tensor([0.8118, 0.7641, 0.7679]))\n"
          ]
        }
      ],
      "source": [
        "print(get_dataset_stats(trainloader))"
      ]
    },
    {
      "cell_type": "code",
      "execution_count": 767,
      "metadata": {
        "id": "yRUq7ArF_FmK"
      },
      "outputs": [],
      "source": [
        "train_iterator = iter(trainloader)\n",
        "train_batch = next(train_iterator)"
      ]
    },
    {
      "cell_type": "code",
      "execution_count": 768,
      "metadata": {
        "id": "NhVUIdmO_FmK"
      },
      "outputs": [
        {
          "name": "stdout",
          "output_type": "stream",
          "text": [
            "torch.Size([32, 3, 224, 224])\n",
            "torch.Size([32])\n"
          ]
        }
      ],
      "source": [
        "print(train_batch[0].size())\n",
        "print(train_batch[1].size())"
      ]
    },
    {
      "cell_type": "code",
      "execution_count": 769,
      "metadata": {
        "id": "z1AkTnI3_FmK"
      },
      "outputs": [
        {
          "name": "stderr",
          "output_type": "stream",
          "text": [
            "Clipping input data to the valid range for imshow with RGB data ([0..1] for floats or [0..255] for integers).\n"
          ]
        },
        {
          "data": {
            "image/png": "[encoded data removed]",
            "text/plain": [
              "<Figure size 432x288 with 1 Axes>"
            ]
          },
          "metadata": {
            "needs_background": "light"
          },
          "output_type": "display_data"
        }
      ],
      "source": [
        "plt.figure()\n",
        "plt.imshow(train_batch[0].numpy()[4].transpose(1,2,0))\n",
        "plt.show()"
      ]
    },
    {
      "cell_type": "code",
      "execution_count": 770,
      "metadata": {
        "id": "1v_HBoQX_FmL"
      },
      "outputs": [],
      "source": [
        "class Model(nn.Module):\n",
        "    def __init__(self,  num_classes, input_shape, transfer=False, fixed_feature_extractor=False):\n",
        "        super().__init__()\n",
        "\n",
        "        self.transfer = transfer\n",
        "        self.num_classes = num_classes\n",
        "        self.input_shape = input_shape\n",
        "        \n",
        "        # transfer learning if pretrained=True\n",
        "        self.feature_extractor =  selected_model(weights=(pretrained_weights if transfer else None))\n",
        "\n",
        "        if not fixed_feature_extractor:\n",
        "            # layers are frozen by using eval()\n",
        "            self.feature_extractor.eval()\n",
        "            # freeze params\n",
        "            for param in self.feature_extractor.parameters():\n",
        "                param.requires_grad = False\n",
        "\n",
        "        n_features = self._get_conv_output(self.input_shape)\n",
        "        self.classifier = nn.Linear(n_features, num_classes)\n",
        "\n",
        "    def _get_conv_output(self, shape):\n",
        "        batch_size = 1\n",
        "        tmp_input = torch.autograd.Variable(torch.rand(batch_size, *shape))\n",
        "\n",
        "        output_feat = self.feature_extractor(tmp_input) \n",
        "        n_size = output_feat.data.view(batch_size, -1).size(1)\n",
        "        return n_size\n",
        "\n",
        "    # will be used during inference\n",
        "    def forward(self, x):\n",
        "       x = self.feature_extractor(x)\n",
        "       x = x.view(x.size(0), -1)\n",
        "       x = self.classifier(x)\n",
        "       \n",
        "       return x\n"
      ]
    },
    {
      "cell_type": "code",
      "execution_count": 771,
      "metadata": {
        "id": "S6EzdJmt_FmL"
      },
      "outputs": [
        {
          "data": {
            "text/plain": [
              "Model(\n",
              "  (feature_extractor): ResNet(\n",
              "    (conv1): Conv2d(3, 64, kernel_size=(7, 7), stride=(2, 2), padding=(3, 3), bias=False)\n",
              "    (bn1): BatchNorm2d(64, eps=1e-05, momentum=0.1, affine=True, track_running_stats=True)\n",
              "    (relu): ReLU(inplace=True)\n",
              "    (maxpool): MaxPool2d(kernel_size=3, stride=2, padding=1, dilation=1, ceil_mode=False)\n",
              "    (layer1): Sequential(\n",
              "      (0): BasicBlock(\n",
              "        (conv1): Conv2d(64, 64, kernel_size=(3, 3), stride=(1, 1), padding=(1, 1), bias=False)\n",
              "        (bn1): BatchNorm2d(64, eps=1e-05, momentum=0.1, affine=True, track_running_stats=True)\n",
              "        (relu): ReLU(inplace=True)\n",
              "        (conv2): Conv2d(64, 64, kernel_size=(3, 3), stride=(1, 1), padding=(1, 1), bias=False)\n",
              "        (bn2): BatchNorm2d(64, eps=1e-05, momentum=0.1, affine=True, track_running_stats=True)\n",
              "      )\n",
              "      (1): BasicBlock(\n",
              "        (conv1): Conv2d(64, 64, kernel_size=(3, 3), stride=(1, 1), padding=(1, 1), bias=False)\n",
              "        (bn1): BatchNorm2d(64, eps=1e-05, momentum=0.1, affine=True, track_running_stats=True)\n",
              "        (relu): ReLU(inplace=True)\n",
              "        (conv2): Conv2d(64, 64, kernel_size=(3, 3), stride=(1, 1), padding=(1, 1), bias=False)\n",
              "        (bn2): BatchNorm2d(64, eps=1e-05, momentum=0.1, affine=True, track_running_stats=True)\n",
              "      )\n",
              "    )\n",
              "    (layer2): Sequential(\n",
              "      (0): BasicBlock(\n",
              "        (conv1): Conv2d(64, 128, kernel_size=(3, 3), stride=(2, 2), padding=(1, 1), bias=False)\n",
              "        (bn1): BatchNorm2d(128, eps=1e-05, momentum=0.1, affine=True, track_running_stats=True)\n",
              "        (relu): ReLU(inplace=True)\n",
              "        (conv2): Conv2d(128, 128, kernel_size=(3, 3), stride=(1, 1), padding=(1, 1), bias=False)\n",
              "        (bn2): BatchNorm2d(128, eps=1e-05, momentum=0.1, affine=True, track_running_stats=True)\n",
              "        (downsample): Sequential(\n",
              "          (0): Conv2d(64, 128, kernel_size=(1, 1), stride=(2, 2), bias=False)\n",
              "          (1): BatchNorm2d(128, eps=1e-05, momentum=0.1, affine=True, track_running_stats=True)\n",
              "        )\n",
              "      )\n",
              "      (1): BasicBlock(\n",
              "        (conv1): Conv2d(128, 128, kernel_size=(3, 3), stride=(1, 1), padding=(1, 1), bias=False)\n",
              "        (bn1): BatchNorm2d(128, eps=1e-05, momentum=0.1, affine=True, track_running_stats=True)\n",
              "        (relu): ReLU(inplace=True)\n",
              "        (conv2): Conv2d(128, 128, kernel_size=(3, 3), stride=(1, 1), padding=(1, 1), bias=False)\n",
              "        (bn2): BatchNorm2d(128, eps=1e-05, momentum=0.1, affine=True, track_running_stats=True)\n",
              "      )\n",
              "    )\n",
              "    (layer3): Sequential(\n",
              "      (0): BasicBlock(\n",
              "        (conv1): Conv2d(128, 256, kernel_size=(3, 3), stride=(2, 2), padding=(1, 1), bias=False)\n",
              "        (bn1): BatchNorm2d(256, eps=1e-05, momentum=0.1, affine=True, track_running_stats=True)\n",
              "        (relu): ReLU(inplace=True)\n",
              "        (conv2): Conv2d(256, 256, kernel_size=(3, 3), stride=(1, 1), padding=(1, 1), bias=False)\n",
              "        (bn2): BatchNorm2d(256, eps=1e-05, momentum=0.1, affine=True, track_running_stats=True)\n",
              "        (downsample): Sequential(\n",
              "          (0): Conv2d(128, 256, kernel_size=(1, 1), stride=(2, 2), bias=False)\n",
              "          (1): BatchNorm2d(256, eps=1e-05, momentum=0.1, affine=True, track_running_stats=True)\n",
              "        )\n",
              "      )\n",
              "      (1): BasicBlock(\n",
              "        (conv1): Conv2d(256, 256, kernel_size=(3, 3), stride=(1, 1), padding=(1, 1), bias=False)\n",
              "        (bn1): BatchNorm2d(256, eps=1e-05, momentum=0.1, affine=True, track_running_stats=True)\n",
              "        (relu): ReLU(inplace=True)\n",
              "        (conv2): Conv2d(256, 256, kernel_size=(3, 3), stride=(1, 1), padding=(1, 1), bias=False)\n",
              "        (bn2): BatchNorm2d(256, eps=1e-05, momentum=0.1, affine=True, track_running_stats=True)\n",
              "      )\n",
              "    )\n",
              "    (layer4): Sequential(\n",
              "      (0): BasicBlock(\n",
              "        (conv1): Conv2d(256, 512, kernel_size=(3, 3), stride=(2, 2), padding=(1, 1), bias=False)\n",
              "        (bn1): BatchNorm2d(512, eps=1e-05, momentum=0.1, affine=True, track_running_stats=True)\n",
              "        (relu): ReLU(inplace=True)\n",
              "        (conv2): Conv2d(512, 512, kernel_size=(3, 3), stride=(1, 1), padding=(1, 1), bias=False)\n",
              "        (bn2): BatchNorm2d(512, eps=1e-05, momentum=0.1, affine=True, track_running_stats=True)\n",
              "        (downsample): Sequential(\n",
              "          (0): Conv2d(256, 512, kernel_size=(1, 1), stride=(2, 2), bias=False)\n",
              "          (1): BatchNorm2d(512, eps=1e-05, momentum=0.1, affine=True, track_running_stats=True)\n",
              "        )\n",
              "      )\n",
              "      (1): BasicBlock(\n",
              "        (conv1): Conv2d(512, 512, kernel_size=(3, 3), stride=(1, 1), padding=(1, 1), bias=False)\n",
              "        (bn1): BatchNorm2d(512, eps=1e-05, momentum=0.1, affine=True, track_running_stats=True)\n",
              "        (relu): ReLU(inplace=True)\n",
              "        (conv2): Conv2d(512, 512, kernel_size=(3, 3), stride=(1, 1), padding=(1, 1), bias=False)\n",
              "        (bn2): BatchNorm2d(512, eps=1e-05, momentum=0.1, affine=True, track_running_stats=True)\n",
              "      )\n",
              "    )\n",
              "    (avgpool): AdaptiveAvgPool2d(output_size=(1, 1))\n",
              "    (fc): Linear(in_features=512, out_features=1000, bias=True)\n",
              "  )\n",
              "  (classifier): Linear(in_features=1000, out_features=4, bias=True)\n",
              ")"
            ]
          },
          "execution_count": 771,
          "metadata": {},
          "output_type": "execute_result"
        }
      ],
      "source": [
        "net = Model(4, (3,224,224), transfer=True, fixed_feature_extractor=False)\n",
        "net.to(device)"
      ]
    },
    {
      "cell_type": "code",
      "execution_count": 772,
      "metadata": {
        "id": "HzBdAaSk_FmM"
      },
      "outputs": [],
      "source": [
        "criterion = nn.CrossEntropyLoss() # Loss function\n",
        "optimizer = torch.optim.Adam(net.parameters(), lr = 0.001)\n",
        "scheduler = ExponentialLR(optimizer, gamma=0.90)"
      ]
    },
    {
      "cell_type": "code",
      "execution_count": 773,
      "metadata": {
        "id": "gSdT3VlN_FmM"
      },
      "outputs": [
        {
          "name": "stdout",
          "output_type": "stream",
          "text": [
            "1,  train loss: 1.711, val loss: 1.549\n",
            "Saving model\n",
            "2,  train loss: 1.233, val loss: 1.074\n",
            "Saving model\n",
            "3,  train loss: 0.901, val loss: 0.705\n",
            "Saving model\n",
            "4,  train loss: 0.713, val loss: 0.620\n",
            "Saving model\n",
            "5,  train loss: 0.681, val loss: 0.604\n",
            "Saving model\n",
            "6,  train loss: 0.684, val loss: 0.543\n",
            "Saving model\n",
            "7,  train loss: 0.536, val loss: 0.614\n",
            "8,  train loss: 0.527, val loss: 0.664\n",
            "9,  train loss: 0.541, val loss: 0.701\n",
            "10,  train loss: 0.421, val loss: 0.769\n",
            "11,  train loss: 0.456, val loss: 0.607\n",
            "12,  train loss: 0.430, val loss: 0.522\n",
            "Saving model\n",
            "13,  train loss: 0.404, val loss: 0.573\n",
            "14,  train loss: 0.402, val loss: 0.581\n",
            "15,  train loss: 0.388, val loss: 0.476\n",
            "Saving model\n",
            "16,  train loss: 0.356, val loss: 0.413\n",
            "Saving model\n",
            "17,  train loss: 0.354, val loss: 0.481\n",
            "18,  train loss: 0.339, val loss: 0.551\n",
            "19,  train loss: 0.302, val loss: 0.429\n",
            "20,  train loss: 0.312, val loss: 0.627\n",
            "21,  train loss: 0.326, val loss: 0.516\n",
            "22,  train loss: 0.304, val loss: 0.548\n",
            "23,  train loss: 0.354, val loss: 0.551\n",
            "24,  train loss: 0.319, val loss: 0.389\n",
            "Saving model\n",
            "25,  train loss: 0.342, val loss: 0.491\n",
            "26,  train loss: 0.318, val loss: 0.571\n",
            "27,  train loss: 0.358, val loss: 0.619\n",
            "28,  train loss: 0.338, val loss: 0.473\n",
            "29,  train loss: 0.321, val loss: 0.703\n",
            "30,  train loss: 0.309, val loss: 0.555\n",
            "Finished Training\n"
          ]
        }
      ],
      "source": [
        "nepochs = 30\n",
        "PATH = 'EV_net.pth' # Path to save the best model\n",
        "\n",
        "best_loss = 1e+20\n",
        "for epoch in range(nepochs):  # loop over the dataset multiple times\n",
        "    # Training Loop\n",
        "    train_loss = 0.0\n",
        "    for i, data in enumerate(trainloader, 0):\n",
        "        # get the inputs; data is a list of [inputs, labels]\n",
        "        inputs, labels = data[0].to(device), data[1].to(device)\n",
        "        # zero the parameter gradients\n",
        "        optimizer.zero_grad()\n",
        "\n",
        "        # forward + backward + optimize\n",
        "        outputs = net(inputs)\n",
        "        \n",
        "        loss = criterion(outputs, labels)\n",
        "        loss.backward()\n",
        "        optimizer.step()\n",
        "\n",
        "        train_loss += loss.item()\n",
        "    print(f'{epoch + 1},  train loss: {train_loss / (i+1):.3f},', end = ' ')\n",
        "    scheduler.step()\n",
        "    \n",
        "    val_loss = 0\n",
        "    # since we're not training, we don't need to calculate the gradients for our outputs\n",
        "    with torch.no_grad():\n",
        "        for i, data in enumerate(valloader, 0):\n",
        "            # get the inputs; data is a list of [inputs, labels]\n",
        "            inputs, labels = data[0].to(device), data[1].to(device)\n",
        "            outputs = net(inputs)\n",
        "            loss = criterion(outputs, labels)\n",
        "            \n",
        "            val_loss += loss.item()\n",
        "        print(f'val loss: {val_loss / (i+1):.3f}')\n",
        "        \n",
        "        # Save best model\n",
        "        if val_loss < best_loss:\n",
        "            print(\"Saving model\")\n",
        "            torch.save(net.state_dict(), PATH)\n",
        "            best_loss = val_loss\n",
        "        \n",
        "print('Finished Training')"
      ]
    },
    {
      "cell_type": "code",
      "execution_count": 774,
      "metadata": {
        "id": "b8BhiMEx_FmN"
      },
      "outputs": [
        {
          "data": {
            "text/plain": [
              "<All keys matched successfully>"
            ]
          },
          "execution_count": 774,
          "metadata": {},
          "output_type": "execute_result"
        }
      ],
      "source": [
        "# Load the best model to be used in the test set\n",
        "net = Model(4, (3,224,224), False)\n",
        "net.load_state_dict(torch.load(PATH))"
      ]
    },
    {
      "cell_type": "code",
      "execution_count": 775,
      "metadata": {
        "id": "DPMX1VzU_FmN"
      },
      "outputs": [
        {
          "name": "stdout",
          "output_type": "stream",
          "text": [
            "Accuracy of the network on the test images: 72.41379310344827 %\n"
          ]
        }
      ],
      "source": [
        "correct = 0\n",
        "total = 0\n",
        "# since we're not training, we don't need to calculate the gradients for our outputs\n",
        "with torch.no_grad():\n",
        "    for data in testloader:\n",
        "        images, labels = data\n",
        "        # calculate outputs by running images through the network\n",
        "        outputs = net(images)\n",
        "        # the class with the highest energy is what we choose as prediction\n",
        "        _, predicted = torch.max(outputs.data, 1)\n",
        "        total += labels.size(0)\n",
        "        correct += (predicted == labels).sum().item()\n",
        "\n",
        "print(f'Accuracy of the network on the test images: {100 * correct / total} %')"
      ]
    }
  ],
  "metadata": {
    "colab": {
      "provenance": []
    },
    "kernelspec": {
      "display_name": "pytorch1.11",
      "language": "python",
      "name": "python3"
    },
    "language_info": {
      "codemirror_mode": {
        "name": "ipython",
        "version": 3
      },
      "file_extension": ".py",
      "mimetype": "text/x-python",
      "name": "python",
      "nbconvert_exporter": "python",
      "pygments_lexer": "ipython3",
      "version": "3.9.9"
    },
    "orig_nbformat": 4,
    "vscode": {
      "interpreter": {
        "hash": "249d11310564531dbb0422c65726fbafe5d71a3f15733fe196d56460bed7c227"
      }
    }
  },
  "nbformat": 4,
  "nbformat_minor": 0
}
